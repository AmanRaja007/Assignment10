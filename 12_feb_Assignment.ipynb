{
 "cells": [
  {
   "cell_type": "markdown",
   "id": "3b6e3f54-62aa-4dbb-9d7d-7826e99d32b3",
   "metadata": {},
   "source": [
    "#question 1\n",
    "What is exception in python? Write the difference between Exception and Syntax errors."
   ]
  },
  {
   "cell_type": "markdown",
   "id": "868c1f35-1232-4541-a834-b0ff65fddee9",
   "metadata": {},
   "source": [
    "#Solution:- \n",
    "Exception:- An exception is an event, which occurs during the execution of a program that disrupts the normal flow of the program's instructions. In general, when a Python script encounters a situation that it cannot cope with, it raises an exception. An exception is a Python object that represents an error.\n",
    "\n",
    "\n",
    "Difference b/w exception and Syntax errors.\n",
    "Both exceptions and errors are the subclasses of a throwable class. The error implies a problem that mostly arises due to the shortage of system resources. On the other hand, the exceptions occur during runtime and compile time\n"
   ]
  },
  {
   "cell_type": "markdown",
   "id": "b13bd6ec-6242-4e54-833f-1fcc5fb822a8",
   "metadata": {},
   "source": [
    "#Question 2.\n",
    "What happen when an exception is not handled ? Explain with an example."
   ]
  },
  {
   "cell_type": "markdown",
   "id": "79dede10-2fa5-46f1-9e71-8e406339d37d",
   "metadata": {},
   "source": [
    "#Solution: \n",
    "If the exception is not handled by an except clause, the exception is re-raised after the finally clause has been executed."
   ]
  },
  {
   "cell_type": "code",
   "execution_count": 1,
   "id": "24344a97-0150-412d-810d-4278f0391ab5",
   "metadata": {},
   "outputs": [],
   "source": [
    "#for example\n",
    "def divide(x, y):\n",
    "    try:\n",
    "        result = x / y\n",
    "    except ZeroDivisionError:\n",
    "        print(\"division by zero!\")\n",
    "    else:\n",
    "        print(\"result is\", result)\n",
    "    finally:\n",
    "        print(\"executing finally clause\")"
   ]
  },
  {
   "cell_type": "code",
   "execution_count": 2,
   "id": "e835697c-e25c-4c4f-901a-4ded73eb5883",
   "metadata": {},
   "outputs": [
    {
     "name": "stdout",
     "output_type": "stream",
     "text": [
      "executing finally clause\n"
     ]
    },
    {
     "ename": "TypeError",
     "evalue": "unsupported operand type(s) for /: 'str' and 'str'",
     "output_type": "error",
     "traceback": [
      "\u001b[0;31m---------------------------------------------------------------------------\u001b[0m",
      "\u001b[0;31mTypeError\u001b[0m                                 Traceback (most recent call last)",
      "Cell \u001b[0;32mIn[2], line 1\u001b[0m\n\u001b[0;32m----> 1\u001b[0m \u001b[43mdivide\u001b[49m\u001b[43m(\u001b[49m\u001b[38;5;124;43m\"\u001b[39;49m\u001b[38;5;124;43m2\u001b[39;49m\u001b[38;5;124;43m\"\u001b[39;49m\u001b[43m,\u001b[49m\u001b[38;5;124;43m\"\u001b[39;49m\u001b[38;5;124;43m3\u001b[39;49m\u001b[38;5;124;43m\"\u001b[39;49m\u001b[43m)\u001b[49m\n",
      "Cell \u001b[0;32mIn[1], line 4\u001b[0m, in \u001b[0;36mdivide\u001b[0;34m(x, y)\u001b[0m\n\u001b[1;32m      2\u001b[0m \u001b[38;5;28;01mdef\u001b[39;00m \u001b[38;5;21mdivide\u001b[39m(x, y):\n\u001b[1;32m      3\u001b[0m     \u001b[38;5;28;01mtry\u001b[39;00m:\n\u001b[0;32m----> 4\u001b[0m         result \u001b[38;5;241m=\u001b[39m \u001b[43mx\u001b[49m\u001b[43m \u001b[49m\u001b[38;5;241;43m/\u001b[39;49m\u001b[43m \u001b[49m\u001b[43my\u001b[49m\n\u001b[1;32m      5\u001b[0m     \u001b[38;5;28;01mexcept\u001b[39;00m \u001b[38;5;167;01mZeroDivisionError\u001b[39;00m:\n\u001b[1;32m      6\u001b[0m         \u001b[38;5;28mprint\u001b[39m(\u001b[38;5;124m\"\u001b[39m\u001b[38;5;124mdivision by zero!\u001b[39m\u001b[38;5;124m\"\u001b[39m)\n",
      "\u001b[0;31mTypeError\u001b[0m: unsupported operand type(s) for /: 'str' and 'str'"
     ]
    }
   ],
   "source": [
    "divide(\"2\",\"3\")"
   ]
  },
  {
   "cell_type": "markdown",
   "id": "c13d6a91-b20d-4632-b3f0-50b47204e244",
   "metadata": {},
   "source": [
    "#Question 4.\n",
    "Explain with an example:\n",
    "\n",
    "a. try and else\n",
    "\n",
    "b. finally\n",
    "\n",
    "c. raise\n"
   ]
  },
  {
   "cell_type": "markdown",
   "id": "8e35c7e8-f3d1-4ec1-8ff4-6f79d6730cea",
   "metadata": {},
   "source": [
    "#solution: \n",
    "try and else : else block will be executed only when try block will be succesfully executed"
   ]
  },
  {
   "cell_type": "code",
   "execution_count": 3,
   "id": "68522b47-c6ad-4414-bf5b-e334162e4a18",
   "metadata": {},
   "outputs": [],
   "source": [
    "#example of try and else\n",
    "def greet():\n",
    "    try:\n",
    "        print(\"Hello\")\n",
    "    except:\n",
    "        print(\"Something wwnt wrong\")\n",
    "    else:\n",
    "        print(\"Try block is successfully executed\")"
   ]
  },
  {
   "cell_type": "code",
   "execution_count": 4,
   "id": "c4156ba5-9fda-4a65-a422-0a59de6cc14c",
   "metadata": {},
   "outputs": [
    {
     "name": "stdout",
     "output_type": "stream",
     "text": [
      "Hello\n",
      "Try block is successfully executed\n"
     ]
    }
   ],
   "source": [
    "greet()"
   ]
  },
  {
   "cell_type": "markdown",
   "id": "f9df8d5e-904b-4894-beb5-ce3c66039d35",
   "metadata": {},
   "source": [
    "#solution b:\n",
    "finally :-  defines a block of code to run when the try... except...else block is final. The finally block will be executed no matter if the try block raises an error or not. This can be useful to close objects and clean up resources."
   ]
  },
  {
   "cell_type": "code",
   "execution_count": 5,
   "id": "5df8e335-6de0-49c4-b00f-a0faad168d77",
   "metadata": {},
   "outputs": [
    {
     "name": "stdout",
     "output_type": "stream",
     "text": [
      "Something went wrong\n",
      "The try...except block is finished\n"
     ]
    }
   ],
   "source": [
    "#example of finally\n",
    "try:\n",
    "  x > 3\n",
    "except:\n",
    "  print(\"Something went wrong\")\n",
    "else:\n",
    "  print(\"Nothing went wrong\")\n",
    "finally:\n",
    "  print(\"The try...except block is finished\")\n"
   ]
  },
  {
   "cell_type": "markdown",
   "id": "11a5d54c-d755-452a-8836-eef875785242",
   "metadata": {},
   "source": [
    "#solution C.\n",
    "raise :- Python raise Keyword is used to raise exceptions or errors. The raise keyword raises an error and stops the control flow of the program. It is used to bring up the current exception in an exception handler so that it can be handled further up the call stack."
   ]
  },
  {
   "cell_type": "code",
   "execution_count": 6,
   "id": "54df0382-c618-4df4-a9a8-81699b4fcf5d",
   "metadata": {},
   "outputs": [
    {
     "ename": "TypeError",
     "evalue": "Only integers are allowed",
     "output_type": "error",
     "traceback": [
      "\u001b[0;31m---------------------------------------------------------------------------\u001b[0m",
      "\u001b[0;31mTypeError\u001b[0m                                 Traceback (most recent call last)",
      "Cell \u001b[0;32mIn[6], line 5\u001b[0m\n\u001b[1;32m      2\u001b[0m x \u001b[38;5;241m=\u001b[39m \u001b[38;5;124m\"\u001b[39m\u001b[38;5;124mhello\u001b[39m\u001b[38;5;124m\"\u001b[39m\n\u001b[1;32m      4\u001b[0m \u001b[38;5;28;01mif\u001b[39;00m \u001b[38;5;129;01mnot\u001b[39;00m \u001b[38;5;28mtype\u001b[39m(x) \u001b[38;5;129;01mis\u001b[39;00m \u001b[38;5;28mint\u001b[39m:\n\u001b[0;32m----> 5\u001b[0m   \u001b[38;5;28;01mraise\u001b[39;00m \u001b[38;5;167;01mTypeError\u001b[39;00m(\u001b[38;5;124m\"\u001b[39m\u001b[38;5;124mOnly integers are allowed\u001b[39m\u001b[38;5;124m\"\u001b[39m)\n",
      "\u001b[0;31mTypeError\u001b[0m: Only integers are allowed"
     ]
    }
   ],
   "source": [
    "#example of raise in python\n",
    "x = \"hello\"\n",
    "\n",
    "if not type(x) is int:\n",
    "  raise TypeError(\"Only integers are allowed\")\n"
   ]
  },
  {
   "cell_type": "markdown",
   "id": "a0c11829-aa43-4217-93f6-cbf7a1aaf819",
   "metadata": {},
   "source": [
    "#Question 5.\n",
    "What are custom exception in python? why do we need custom exception? Explain with an example."
   ]
  },
  {
   "cell_type": "markdown",
   "id": "1ba1c19d-8feb-4a70-b811-a176896d5026",
   "metadata": {},
   "source": [
    "#solution:\n",
    "Like standard exception classes, custom exceptions are also classes. Hence, you can add functionality to the custom exception classes like: Adding attributes and properties. Adding methods e.g., log the exception, format the output, etc.\n",
    "\n",
    "For example, You are creating your own list data type in Python that only stores integer. In such cases, it is better to define a custom Exception class that provides a better understanding of the errors that users can understand and relate. Using built-in exception classes may not be very useful in such scenarios\n"
   ]
  },
  {
   "cell_type": "code",
   "execution_count": 27,
   "id": "7c850946-6c02-4a9e-ac32-82d08a716e99",
   "metadata": {},
   "outputs": [],
   "source": [
    "#example\n"
   ]
  },
  {
   "cell_type": "markdown",
   "id": "8712a3d7-bc6d-46e0-a4ea-8c4573b46d3a",
   "metadata": {},
   "source": [
    "#Question 6.\n",
    "create an exception class . use this class to handle an exception."
   ]
  },
  {
   "cell_type": "code",
   "execution_count": 24,
   "id": "20643f30-6d5b-4d72-8862-a76baccc11ee",
   "metadata": {},
   "outputs": [],
   "source": [
    "#solution\n",
    "class validateage(Exception):\n",
    "    \n",
    "    def __init__(self,msg):\n",
    "        self.msg = msg\n",
    "        "
   ]
  },
  {
   "cell_type": "code",
   "execution_count": 25,
   "id": "6f4ddddd-018e-4e3a-aec4-0ac0d7cf80ae",
   "metadata": {},
   "outputs": [],
   "source": [
    "def check_age(age):\n",
    "    \n",
    "    if age < 0:\n",
    "        raise validateage(\"Entered age is negative\")\n",
    "    elif age > 200:\n",
    "        raise validateage(\"Entered age is very very high\")\n",
    "    else:\n",
    "        print(\"valid age\")"
   ]
  },
  {
   "cell_type": "code",
   "execution_count": 26,
   "id": "4d21d00b-53bb-4739-a953-c385bbdfa96c",
   "metadata": {},
   "outputs": [
    {
     "name": "stdin",
     "output_type": "stream",
     "text": [
      "Enter your age is:-  -10\n"
     ]
    },
    {
     "name": "stdout",
     "output_type": "stream",
     "text": [
      "Entered age is negative\n"
     ]
    }
   ],
   "source": [
    "try :\n",
    "    age =  int(input(\"Enter your age is:- \"))\n",
    "    check_age(age)\n",
    "except validateage as e:\n",
    "    print(e)"
   ]
  },
  {
   "cell_type": "code",
   "execution_count": null,
   "id": "17e0f94b-7b8e-4ccc-9587-56e8c4366558",
   "metadata": {},
   "outputs": [],
   "source": []
  }
 ],
 "metadata": {
  "kernelspec": {
   "display_name": "Python 3 (ipykernel)",
   "language": "python",
   "name": "python3"
  },
  "language_info": {
   "codemirror_mode": {
    "name": "ipython",
    "version": 3
   },
   "file_extension": ".py",
   "mimetype": "text/x-python",
   "name": "python",
   "nbconvert_exporter": "python",
   "pygments_lexer": "ipython3",
   "version": "3.10.8"
  }
 },
 "nbformat": 4,
 "nbformat_minor": 5
}
